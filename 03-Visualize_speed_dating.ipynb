{
 "cells": [
  {
   "cell_type": "markdown",
   "metadata": {},
   "source": [
    "# Speed Dating - Part II"
   ]
  },
  {
   "cell_type": "markdown",
   "metadata": {},
   "source": [
    "Continue exploring the Speed Dating dataset. You can use Seaborn and/or Matplotlib in case you want to master the rendering of the visualizations : for example, try to superimpose different plots, change the color palettes, add some texts, etc,...\n",
    "\n",
    "One thing to remember : in EDA, there's not one only way to highlight relevant information ! And there are choices to be made about the aspects you'd like to explore in this dataset, so don't hesitate to be creative :-)"
   ]
  },
  {
   "cell_type": "code",
   "execution_count": null,
   "metadata": {},
   "outputs": [],
   "source": []
  }
 ],
 "metadata": {
  "kernelspec": {
   "display_name": "Python 3.10.4 64-bit",
   "language": "python",
   "name": "python3"
  },
  "language_info": {
   "codemirror_mode": {
    "name": "ipython",
    "version": 3
   },
   "file_extension": ".py",
   "mimetype": "text/x-python",
   "name": "python",
   "nbconvert_exporter": "python",
   "pygments_lexer": "ipython3",
   "version": "3.10.4"
  },
  "orig_nbformat": 2,
  "vscode": {
   "interpreter": {
    "hash": "4574c92c81b7a4447a4b895dbf630721cb3b758132caf039eedf7927fb67883f"
   }
  }
 },
 "nbformat": 4,
 "nbformat_minor": 2
}
